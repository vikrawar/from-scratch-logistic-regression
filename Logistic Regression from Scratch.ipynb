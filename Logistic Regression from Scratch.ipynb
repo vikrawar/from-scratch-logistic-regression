{
 "cells": [
  {
   "cell_type": "markdown",
   "id": "5d698b08-ee89-4820-82b9-fead9300b589",
   "metadata": {},
   "source": [
    "# Logistic Regression from Scratch\n",
    "---\n",
    "#### In this notebook we will be implementing the **logistic regression** algorithm using just NumPy.\n",
    "\n",
    "Logistic regression is a machine learning algorithm that is used to classify objects into two classes (binary classification)  \n",
    "\n",
    "- Yes or No\n",
    "- Spam or Not Spam\n",
    "- Disease or No Disease <br>  \n",
    "<br>\n",
    "This is a supervised learning algorithm. This means we feed it data that we already know the category/labels of. The algorithms learn from this data. It tunes its parameters (weights and bias) such that the function is able to correctly categorize as many of the training data as possible. <br>\n",
    "Well, in reality, the logistic regression algorithm tries to minimize the cost associated with wrong predictions. (And thats true for pretty much all machine learning algorithms) <br>\n",
    "---\n",
    "The logistic regression algorithm used to be one of the fundamental concepts powering Neural Networks. Regardless, the essence of this algorithm captures the core mechanics of how models learn. <br>\n",
    "<br>\n",
    "Our goal is to understand the main ideas behind logistic regression. For this reason, this notebook sticks to the bare essentials, the core mechanics behind logistic regression. <br><br>"
   ]
  },
  {
   "cell_type": "markdown",
   "id": "a3c54044-56e1-4bb5-8d65-5bf01e0b476f",
   "metadata": {},
   "source": [
    "## Generating training data\n",
    "\n",
    "Let's say we have 5 training examples, each having 3 features. \n",
    "We'll stack them as column vectors in a matrix `X`. \n",
    "Their corresponding binary labels will be in a horizontal array `Y`. <br>\n",
    "\n",
    "X:\n",
    "\\begin{bmatrix}\n",
    "\\vert & \\vert & \\vert & \\vert & \\vert \\\\\n",
    "x_1 & x_2 & x_3 & x_4 & x_5 \\\\\n",
    "\\vert & \\vert & \\vert & \\vert & \\vert \\\\\n",
    "\\end{bmatrix}\n",
    "\n",
    "Y:\n",
    "\\begin{bmatrix} y_1 & y_2 & y_3 & y_4 & y_5 \\end{bmatrix}\n",
    "\n",
    "\n",
    "Note on notation: <br>\n",
    "Don't get hung up on the notation and terminology. \n",
    "Some people prefer to have the training data stacked as rows. \n",
    "At the end of the day, it doesn't matter as long as the calculations are correct."
   ]
  },
  {
   "cell_type": "code",
   "execution_count": 1,
   "id": "e3a99150-cb59-424e-a542-7593364e8ced",
   "metadata": {},
   "outputs": [
    {
     "data": {
      "text/plain": [
       "(array([[0.1, 0.2, 0.7, 0.9, 0.3],\n",
       "        [0.8, 0.7, 0.4, 0.1, 0.9],\n",
       "        [0.9, 0.7, 0.1, 0.2, 0.9]]),\n",
       " array([0., 0., 1., 1., 0.]))"
      ]
     },
     "execution_count": 1,
     "metadata": {},
     "output_type": "execute_result"
    }
   ],
   "source": [
    "import numpy as np\n",
    "\n",
    "X = np.array([\n",
    "    [0.1, 0.2, 0.7, 0.9, 0.3],\n",
    "    [0.8, 0.7, 0.4, 0.1, 0.9],\n",
    "    [0.9, 0.7, 0.1, 0.2, 0.9]\n",
    "])\n",
    "\n",
    "Y = np.array([0., 0., 1., 1., 0.])\n",
    "\n",
    "X, Y"
   ]
  },
  {
   "cell_type": "markdown",
   "id": "0c3922c7-abe6-41ad-9311-34ae26c24fae",
   "metadata": {},
   "source": [
    "### Initializing weights and bias"
   ]
  },
  {
   "cell_type": "markdown",
   "id": "d1ac6cb5-9074-4807-b0e3-5333e7e0cfde",
   "metadata": {},
   "source": [
    "Our algortihm has 3 weights (corrisponding to the number of features), and a bias to work with. The algorithm will tune these parameters in order to minimize the loss on the training data"
   ]
  },
  {
   "cell_type": "code",
   "execution_count": 2,
   "id": "898c77b5-cc20-4232-8af6-9e10d7f63c5a",
   "metadata": {},
   "outputs": [
    {
     "data": {
      "text/plain": [
       "(array([[ 1.46448289],\n",
       "        [-0.54167159],\n",
       "        [ 1.05614313]]),\n",
       " 1.0)"
      ]
     },
     "execution_count": 2,
     "metadata": {},
     "output_type": "execute_result"
    }
   ],
   "source": [
    "W = np.random.randn(3,1)\n",
    "b = 1.\n",
    "W, b"
   ]
  },
  {
   "cell_type": "markdown",
   "id": "a0e44663-fd05-4909-a71c-76334f1365e6",
   "metadata": {},
   "source": [
    "## Sigmoid function\n",
    "\n",
    "At the heart of logistic regression is the sigmoid function. <br>\n",
    "The sigmoid function basically takes in real number (output of a line in our case), and squashes it between 0 and 1. These then act as probabilities, through which we can predict the class of similar data.<br>\n",
    "\n",
    "$$ \\sigma(z) = \\frac{1}{1 + e^{-z}} $$"
   ]
  },
  {
   "cell_type": "code",
   "execution_count": 3,
   "id": "8046e60a-c061-4058-971a-d41304277ffe",
   "metadata": {},
   "outputs": [],
   "source": [
    "def sigmoid(z):\n",
    "    return 1 / (1 + np.exp(-z))"
   ]
  },
  {
   "cell_type": "markdown",
   "id": "59eeb9ea-c478-4b27-8b35-dc71705d1af8",
   "metadata": {},
   "source": [
    "Let's visualize the sigmoid function"
   ]
  },
  {
   "cell_type": "code",
   "execution_count": 4,
   "id": "3d951a5f-fab4-4a8b-ba6f-47a5ccc71013",
   "metadata": {},
   "outputs": [
    {
     "data": {
      "image/png": "[encoded data removed]",
      "text/plain": [
       "<Figure size 640x480 with 1 Axes>"
      ]
     },
     "metadata": {},
     "output_type": "display_data"
    }
   ],
   "source": [
    "import matplotlib.pyplot as plt \n",
    "\n",
    "plt.plot(np.linspace(-10,10,50), sigmoid(np.linspace(-10,10,50)))\n",
    "plt.axhline(0.5, linestyle='--', color='gray', alpha=0.6)\n",
    "plt.axvline(0, linestyle='--', color='gray', alpha=0.6)\n",
    "plt.title(\"Sigmoid Function\")\n",
    "plt.xlabel(\"z\")\n",
    "plt.ylabel(\"sigmoid(z)\")\n",
    "plt.xticks(np.arange(-10, 10.1, 5))\n",
    "plt.yticks(np.arange(0, 1.1, 0.25))\n",
    "plt.grid(True);"
   ]
  },
  {
   "cell_type": "markdown",
   "id": "e009ba17-8f99-4110-9d40-8c2ca85453e7",
   "metadata": {},
   "source": [
    "## Loss Function\n",
    "\n",
    "We next define the loss function. This function basically tells us how bad our predictions are relative to the actual ground truth. <br>\n",
    "For logistic regression, the loss for a single prediction is:\n",
    "\n",
    "$$\n",
    "\\mathcal{L}(y, \\hat{y}) = -\\left[y \\log(\\hat{y}) + (1 - y) \\log(1 - \\hat{y})\\right]\n",
    "$$\n",
    "This is called the binary cross-entropy loss. <br>\n",
    "The reason for having this loss function (as opposed to someting simpler like the square residuals) is that for logistic regression, this is a convex function. <br>\n",
    "This means that the loss function has one single global minimum, an no local minimas. This means that the loss is guaranteed to converge"
   ]
  },
  {
   "cell_type": "code",
   "execution_count": 5,
   "id": "a5794d22-83e7-455d-a712-66e529f1b020",
   "metadata": {},
   "outputs": [],
   "source": [
    "def Loss(A, Y):\n",
    "    # A = predicted probabilities (from sigmoid)\n",
    "    # Y = true labels\n",
    "    return -(Y*np.log(A) + (1 - Y)*np.log(1 - A))"
   ]
  },
  {
   "cell_type": "markdown",
   "id": "a8acdafc-8554-4ce5-abfa-033b1ddc8dd2",
   "metadata": {},
   "source": [
    "#### Let's look at the loss of our unoptimized function"
   ]
  },
  {
   "cell_type": "code",
   "execution_count": 6,
   "id": "a95208a4-6bca-44a8-8cbd-44352dff6ccb",
   "metadata": {},
   "outputs": [
    {
     "name": "stdout",
     "output_type": "stream",
     "text": [
      "Predictions: [[0.841 0.839 0.871 0.922 0.87 ]]\n",
      "Ground Truth: [0. 0. 1. 1. 0.]\n"
     ]
    }
   ],
   "source": [
    "A = sigmoid((W.T @ X) + b)\n",
    "print(f\"Predictions: {A.round(3)}\")\n",
    "print(f\"Ground Truth: {Y}\")"
   ]
  },
  {
   "cell_type": "code",
   "execution_count": 7,
   "id": "d496f3df-2851-4f27-ad63-e3b59c9c13a6",
   "metadata": {},
   "outputs": [
    {
     "name": "stdout",
     "output_type": "stream",
     "text": [
      "Loss of every sample\n"
     ]
    },
    {
     "data": {
      "text/plain": [
       "array([[1.8371293 , 1.82821409, 0.13756554, 0.08080079, 2.04144806]])"
      ]
     },
     "execution_count": 7,
     "metadata": {},
     "output_type": "execute_result"
    }
   ],
   "source": [
    "print(\"Loss of every sample\")\n",
    "Loss(A, Y)"
   ]
  },
  {
   "cell_type": "markdown",
   "id": "edc21a6d-7a5c-41de-811f-29e14f8811d1",
   "metadata": {},
   "source": [
    "## Cost Function\n",
    "We will average the losses across all samples, to get a sense of how bad our model does overall"
   ]
  },
  {
   "cell_type": "code",
   "execution_count": 8,
   "id": "465886a7-ea23-488f-a55c-90904f872336",
   "metadata": {},
   "outputs": [],
   "source": [
    "def Cost(L):\n",
    "    # L = loss of every sample\n",
    "    return np.average(L)"
   ]
  },
  {
   "cell_type": "code",
   "execution_count": 9,
   "id": "32cc5ca6-2155-4275-9846-e5bc1406cc5f",
   "metadata": {},
   "outputs": [
    {
     "name": "stdout",
     "output_type": "stream",
     "text": [
      "Cost:\n"
     ]
    },
    {
     "data": {
      "text/plain": [
       "1.1850315563929938"
      ]
     },
     "execution_count": 9,
     "metadata": {},
     "output_type": "execute_result"
    }
   ],
   "source": [
    "print(\"Cost:\")\n",
    "Cost(Loss(A, Y))"
   ]
  },
  {
   "cell_type": "markdown",
   "id": "2ed19ddc-bc5b-412b-a4c3-874d219a4179",
   "metadata": {},
   "source": [
    "## Learning\n",
    "We will now train our model. This means that we will optimize the weights and bias, based on the training data. <br>\n",
    "<br>\n",
    "We will find the gradient of our loss with respect to the weights and bias. Each of our training example will give a diffenrent set of gradients. We will then sum all of these up, and nudge the weights and bias in the opposite direction. This will ensure that our function performs a little bit better overall. In other words, we will reduce the cost of our function. <br>\n",
    "We will perform this a number of times, and hopefully at the end, our function will have very less cost. <br>\n",
    "This algorithm of finding the gradient of the cost function and nudging the parameters in the opposite direction, thus reducing the cost, is also known as Gradient Descent."
   ]
  },
  {
   "cell_type": "markdown",
   "id": "7faecc9b-2d29-4046-9922-1e874545cf1e",
   "metadata": {},
   "source": [
    "Before that, lets look at our unoptimized weights and bias"
   ]
  },
  {
   "cell_type": "code",
   "execution_count": 10,
   "id": "d1ad4141-c354-4b41-999c-93cc3b37ef3f",
   "metadata": {},
   "outputs": [
    {
     "data": {
      "text/plain": [
       "(array([[ 1.46448289],\n",
       "        [-0.54167159],\n",
       "        [ 1.05614313]]),\n",
       " 1.0)"
      ]
     },
     "execution_count": 10,
     "metadata": {},
     "output_type": "execute_result"
    }
   ],
   "source": [
    "W, b"
   ]
  },
  {
   "cell_type": "markdown",
   "id": "d5c31163-e92b-4681-a503-480530ff5af1",
   "metadata": {},
   "source": [
    "### Training with Gradient Descent\n",
    "We’ll perform gradient descent for 20 iterations. "
   ]
  },
  {
   "cell_type": "code",
   "execution_count": 11,
   "id": "3cab4f0d-2c51-4c31-ac03-f7cc65f10740",
   "metadata": {
    "scrolled": true
   },
   "outputs": [
    {
     "name": "stdout",
     "output_type": "stream",
     "text": [
      "epoch=0\n",
      "cost=1.1850315563929938\n",
      "==========\n",
      "epoch=1\n",
      "cost=0.6164020890151733\n",
      "==========\n",
      "epoch=2\n",
      "cost=0.1936066439634284\n",
      "==========\n",
      "epoch=3\n",
      "cost=0.16108606248600893\n",
      "==========\n",
      "epoch=4\n",
      "cost=0.1380858208345952\n",
      "==========\n",
      "epoch=5\n",
      "cost=0.1208359675956979\n",
      "==========\n",
      "epoch=6\n",
      "cost=0.10742277822888799\n",
      "==========\n",
      "epoch=7\n",
      "cost=0.09669960759963682\n",
      "==========\n",
      "epoch=8\n",
      "cost=0.08793331174420244\n",
      "==========\n",
      "epoch=9\n",
      "cost=0.08063404889989093\n",
      "==========\n",
      "epoch=10\n",
      "cost=0.07446242403035946\n",
      "==========\n",
      "epoch=11\n",
      "cost=0.06917600834600099\n",
      "==========\n",
      "epoch=12\n",
      "cost=0.0645970979764962\n",
      "==========\n",
      "epoch=13\n",
      "cost=0.06059250632633334\n",
      "==========\n",
      "epoch=14\n",
      "cost=0.057060467968060545\n",
      "==========\n",
      "epoch=15\n",
      "cost=0.0539219012716712\n",
      "==========\n",
      "epoch=16\n",
      "cost=0.05111442888109824\n",
      "==========\n",
      "epoch=17\n",
      "cost=0.048588192622855415\n",
      "==========\n",
      "epoch=18\n",
      "cost=0.046302865278671446\n",
      "==========\n",
      "epoch=19\n",
      "cost=0.04422547848680353\n",
      "==========\n"
     ]
    }
   ],
   "source": [
    "costs = []\n",
    "\n",
    "for epoch in range(20): \n",
    "    \n",
    "    # Initial predictions\n",
    "    A = sigmoid(W.T @ X + b)\n",
    "\n",
    "    # Gradient calculation\n",
    "    dw = (A - Y) * X # w.r.t the weights\n",
    "    dw = np.sum(dw, axis=1, keepdims=True)\n",
    "    db = (A - Y) # w.r.t the bias\n",
    "    db = np.sum(db, axis=1)\n",
    "    \n",
    "    # Updating the parameters, in order to reduce the total cost\n",
    "    W -= dw\n",
    "    b -= db\n",
    "\n",
    "    # Tracking the cost \n",
    "    cost = Cost(Loss(A, Y))\n",
    "    costs.append(cost)\n",
    "\n",
    "    print(f\"{epoch=}\")\n",
    "    print(f\"{cost=}\")\n",
    "    print(\"==========\")"
   ]
  },
  {
   "cell_type": "markdown",
   "id": "71634ebf-1862-48e4-984f-d9f935a07ad7",
   "metadata": {},
   "source": [
    "Our cost has recduced significantly (approxamitly 30x). But what does this mean for our predictions? <br>\n",
    "Let's first take a look at our learned weights and bias."
   ]
  },
  {
   "cell_type": "code",
   "execution_count": 12,
   "id": "a1f375f6-f54b-4e26-ada4-9a4411b06a74",
   "metadata": {},
   "outputs": [
    {
     "data": {
      "text/plain": [
       "(array([[ 4.57127264],\n",
       "        [-3.44530906],\n",
       "        [-3.02136813]]),\n",
       " array([0.76891735]))"
      ]
     },
     "execution_count": 12,
     "metadata": {},
     "output_type": "execute_result"
    }
   ],
   "source": [
    "W, b"
   ]
  },
  {
   "cell_type": "markdown",
   "id": "d2c2bf5f-05b0-43cc-a685-581fcd31e4da",
   "metadata": {},
   "source": [
    "### Visualizing Cost Reduction "
   ]
  },
  {
   "cell_type": "code",
   "execution_count": 13,
   "id": "8e9e499e-544b-4a2f-a887-1d65b69eb4e7",
   "metadata": {},
   "outputs": [
    {
     "data": {
      "image/png": "[encoded data removed]",
      "text/plain": [
       "<Figure size 640x480 with 1 Axes>"
      ]
     },
     "metadata": {},
     "output_type": "display_data"
    }
   ],
   "source": [
    "plt.plot(costs)\n",
    "plt.title(\"Cost Over Training Iterations\")\n",
    "plt.xticks(np.arange(0, 20))\n",
    "plt.xlabel(\"Epoch\")\n",
    "plt.ylabel(\"Cost\");"
   ]
  },
  {
   "cell_type": "markdown",
   "id": "1bb9bf2f-2251-43c5-ba93-6e3822ae8b23",
   "metadata": {},
   "source": [
    "#### Now for the moment of truth...\n",
    "Is our function able to predict the labels of our data using the optimized parameters?"
   ]
  },
  {
   "cell_type": "code",
   "execution_count": 14,
   "id": "24613f3d-ec0c-4466-ba3c-148bde2a3be9",
   "metadata": {},
   "outputs": [
    {
     "name": "stdout",
     "output_type": "stream",
     "text": [
      "Predictions:\n",
      "[[0.014 0.055 0.908 0.981 0.025]]\n",
      "Actual:\n",
      "[0. 0. 1. 1. 0.]\n"
     ]
    }
   ],
   "source": [
    "print(\"Predictions:\")\n",
    "print(sigmoid(W.T @ X + b).round(3))\n",
    "print(\"Actual:\")\n",
    "print(Y)"
   ]
  },
  {
   "cell_type": "markdown",
   "id": "023e440d-38de-43a2-a797-60a7bb7163eb",
   "metadata": {},
   "source": [
    "These are pretty darn close! <br><br>\n",
    "Since we need to predict a class (0 or 1), we'll use a simple rule: \n",
    "- If probability < 0.5 → class 0\n",
    "- If probability ≥ 0.5 → class 1"
   ]
  },
  {
   "cell_type": "code",
   "execution_count": 15,
   "id": "3ef3fae6-343b-4c4b-b282-9518f4de1a88",
   "metadata": {},
   "outputs": [
    {
     "name": "stdout",
     "output_type": "stream",
     "text": [
      "Predicted classes: [[0 0 1 1 0]]\n",
      "Actual: [0. 0. 1. 1. 0.]\n"
     ]
    }
   ],
   "source": [
    "pred = np.where(sigmoid(W.T @ X + b) < 0.5, 0, 1)\n",
    "\n",
    "print(f\"Predicted classes: {pred}\")\n",
    "print(f\"Actual: {Y}\")"
   ]
  },
  {
   "cell_type": "markdown",
   "id": "42ebec87-d532-45f2-b5e6-3f265001cea9",
   "metadata": {},
   "source": [
    "### Accuracy \n",
    "Let's compute how many predictions we got right."
   ]
  },
  {
   "cell_type": "code",
   "execution_count": 16,
   "id": "da8d4582-d0df-428c-87d0-ecb35cd9dd99",
   "metadata": {},
   "outputs": [
    {
     "name": "stdout",
     "output_type": "stream",
     "text": [
      "Accuracy: 100.0%\n"
     ]
    }
   ],
   "source": [
    "print(f\"Accuracy: {100 - np.average(Y - pred)}%\")"
   ]
  },
  {
   "cell_type": "markdown",
   "id": "1e69805e-d949-46d6-9037-08be11860c6a",
   "metadata": {},
   "source": [
    "### We were able to correctly identify all of out data!\n",
    "---"
   ]
  },
  {
   "cell_type": "markdown",
   "id": "8db051a0-ea86-408f-aaed-790d6af73a8d",
   "metadata": {},
   "source": [
    "# Wrap-Up\n",
    "\n",
    "In this notebook, we built **logistic regression from scratch** using NumPy.\n",
    "\n",
    "We learned:\n",
    "- How input features are combined with weights and bias\n",
    "- How the sigmoid function converts outputs into probabilities\n",
    "- How loss and cost functions guide learning\n",
    "- How gradient descent updates parameters to reduce error\n",
    "- How to evaluate predictions and model performance\n",
    "\n",
    "Yes, the training data was small and intentionally rather simplistic. But for more complex problems, we do have many powerful techniques.\n",
    "\n",
    "Even though logistic regression seems simple, it teaches the core principles behind how machine learning models learn. <br>\n",
    "The principles here extend directly into neural networks and deep learning. \n",
    "\n",
    "---\n",
    "\n",
    "Thanks for reading! 🎉  \n",
    "I hope you learnt something new.  \n",
    "If you enjoyed this, feel free to ⭐️ the repo or share it with others learning ML."
   ]
  }
 ],
 "metadata": {
  "kernelspec": {
   "display_name": "Python 3 (ipykernel)",
   "language": "python",
   "name": "python3"
  },
  "language_info": {
   "codemirror_mode": {
    "name": "ipython",
    "version": 3
   },
   "file_extension": ".py",
   "mimetype": "text/x-python",
   "name": "python",
   "nbconvert_exporter": "python",
   "pygments_lexer": "ipython3",
   "version": "3.10.14"
  }
 },
 "nbformat": 4,
 "nbformat_minor": 5
}
